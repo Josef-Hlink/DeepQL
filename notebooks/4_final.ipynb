{
 "cells": [
  {
   "attachments": {},
   "cell_type": "markdown",
   "metadata": {},
   "source": [
    "# 4: Final\n",
    "\n",
    "In this notebook, we combine all the information we have learned so far to create our final agent configuration.\n",
    "To freshen up your memory, these are the things we have improved with respect to `1_bruteforce.ipynb`:\n",
    "\n",
    "  - We added 10k random warmup steps to populate the agent's memory with non-biased experiences to avoid early local minima.\n",
    "  - We changed our annealing scheme:\n",
    "    - We still start at 1.0, but we decrease it to 0.1 instead of 0.01.\n",
    "    - We use a linear, instead of exponential, decay.\n",
    "    - Instead of annealing over 80% of the total episodes, we anneal over 50%.\n",
    "  - We found that with these additions, agents using both _experience replay_ and a _target network_ performed better than those with either one or none of them.\n",
    "  - We also found that $\\varepsilon$-greedy turned out to outperform Boltzmann when using the same annealing schedule.\n",
    "\n",
    "In order to best compare the results, we give the agents the same budget as we did in `1_bruteforce.ipynb`; 50k episodes."
   ]
  },
  {
   "attachments": {},
   "cell_type": "markdown",
   "metadata": {},
   "source": [
    "## Preliminaries"
   ]
  },
  {
   "cell_type": "code",
   "execution_count": null,
   "metadata": {},
   "outputs": [],
   "source": [
    "import os\n",
    "from pathlib import Path\n",
    "\n",
    "from dql.utils.namespaces import P\n",
    "from dql.utils.datamanager import ConcatDataManager\n",
    "from dql.utils.plotter import ColorPlot, LossPlot\n",
    "\n",
    "import numpy as np\n",
    "import matplotlib.pyplot as plt"
   ]
  },
  {
   "attachments": {},
   "cell_type": "markdown",
   "metadata": {},
   "source": [
    "Check if we have the data.\n",
    "\n",
    "Should be only FIN-TR."
   ]
  },
  {
   "cell_type": "code",
   "execution_count": null,
   "metadata": {},
   "outputs": [],
   "source": [
    "expID = 'FIN'\n",
    "runIDs = [f for f in os.listdir(P.data) if f.startswith(expID)]\n",
    "print('\\n'.join(runIDs))\n",
    "runID = runIDs[0]"
   ]
  },
  {
   "attachments": {},
   "cell_type": "markdown",
   "metadata": {},
   "source": [
    "Check if the parameters are correct.\n",
    "We check for the run using the `TR` config, since it will contain all the hyperparameters."
   ]
  },
  {
   "cell_type": "code",
   "execution_count": null,
   "metadata": {},
   "outputs": [],
   "source": [
    "ConcatDataManager(f'{runID}').printSummary()"
   ]
  },
  {
   "attachments": {},
   "cell_type": "markdown",
   "metadata": {},
   "source": [
    "## Plotting"
   ]
  },
  {
   "attachments": {},
   "cell_type": "markdown",
   "metadata": {},
   "source": [
    "---\n",
    "### Target Network + Experience Replay"
   ]
  },
  {
   "cell_type": "code",
   "execution_count": null,
   "metadata": {},
   "outputs": [],
   "source": [
    "title = '| Experience Replay + Target Network\\nFinal Configuration'\n",
    "DM = ConcatDataManager(f'{runID}')\n",
    "\n",
    "R = DM.loadRewards()\n",
    "fR = ColorPlot(R, label='reward', title=title).getFig()\n",
    "\n",
    "A = DM.loadActions()\n",
    "AB = np.abs((A / np.sum(A, axis=2, keepdims=True))[:, :, 0] - .5) * 2\n",
    "fAB = ColorPlot(AB, label='action bias', title=title).getFig()\n",
    "\n",
    "L = DM.loadLosses()\n",
    "fL = LossPlot(L, title=title).getFig()\n",
    "\n",
    "fR.savefig(Path(P.plots) / f'{runID}-R.png', dpi=500, bbox_inches='tight')\n",
    "fAB.savefig(Path(P.plots) / f'{runID}-AB.png', dpi=500, bbox_inches='tight')\n",
    "fL.savefig(Path(P.plots) / f'{runID}-L.png', dpi=500, bbox_inches='tight')"
   ]
  }
 ],
 "metadata": {
  "kernelspec": {
   "display_name": "venv",
   "language": "python",
   "name": "python3"
  },
  "language_info": {
   "codemirror_mode": {
    "name": "ipython",
    "version": 3
   },
   "file_extension": ".py",
   "mimetype": "text/x-python",
   "name": "python",
   "nbconvert_exporter": "python",
   "pygments_lexer": "ipython3",
   "version": "3.10.10"
  },
  "orig_nbformat": 4
 },
 "nbformat": 4,
 "nbformat_minor": 2
}
