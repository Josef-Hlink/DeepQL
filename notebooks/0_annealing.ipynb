{
 "cells": [
  {
   "cell_type": "code",
   "execution_count": null,
   "metadata": {},
   "outputs": [],
   "source": [
    "import matplotlib.pyplot as plt; plt.style.use('seaborn-v0_8')\n",
    "import numpy as np\n",
    "from dql.agents.annealing import getAnnealingScheme\n",
    "from dql.agents.exploration import ExplorationStrategy\n",
    "from dql.utils.namespaces import P"
   ]
  },
  {
   "cell_type": "code",
   "execution_count": null,
   "metadata": {},
   "outputs": [],
   "source": [
    "ne = 1000\n",
    "fig, (ax1, ax2) = plt.subplots(1, 2, figsize=(8, 4), sharex=True, sharey=True)\n",
    "\n",
    "eS0 = ExplorationStrategy(getAnnealingScheme(0, ne))\n",
    "values0 = np.zeros(ne)\n",
    "for j in range(ne):\n",
    "    values0[j] = eS0.v\n",
    "    eS0.anneal()\n",
    "\n",
    "for i, ax in enumerate([ax1, ax1, ax2, ax2], start=1):\n",
    "    scheme = getAnnealingScheme(i, ne)\n",
    "    eS = ExplorationStrategy(scheme)\n",
    "    values = np.zeros(ne)\n",
    "    for j in range(ne):\n",
    "        values[j] = eS.v\n",
    "        eS.anneal()\n",
    "    if i in [1, 3]:\n",
    "        ax.plot(values0, linewidth=3, alpha=0.75, label='0')\n",
    "    ax.plot(values, linewidth=3, alpha=0.75, label=str(i))\n",
    "    ax.hlines(scheme.endVal, 0, ne, linestyles='dashed', colors='black', alpha=0.1)\n",
    "    ax.vlines(scheme.window*ne, 0, 1, linestyles='dashed', colors='black', alpha=0.1)\n",
    "\n",
    "ax1.legend()\n",
    "ax2.legend()\n",
    "fig.supxlabel('episode')\n",
    "fig.supylabel('exploration parameter')\n",
    "fig.suptitle('Exploration parameter annealing schemes', weight='bold')\n",
    "fig.tight_layout()\n",
    "fig.savefig(P.plots + 'annealing.png', dpi=500, bbox_inches='tight')"
   ]
  }
 ],
 "metadata": {
  "kernelspec": {
   "display_name": "venv",
   "language": "python",
   "name": "python3"
  },
  "language_info": {
   "codemirror_mode": {
    "name": "ipython",
    "version": 3
   },
   "file_extension": ".py",
   "mimetype": "text/x-python",
   "name": "python",
   "nbconvert_exporter": "python",
   "pygments_lexer": "ipython3",
   "version": "3.10.10"
  },
  "orig_nbformat": 4
 },
 "nbformat": 4,
 "nbformat_minor": 2
}
